{
 "cells": [
  {
   "cell_type": "markdown",
   "id": "3228a007-3b03-4f5b-b96d-5380d5d7f759",
   "metadata": {},
   "source": [
    "<div>\n",
    "<img src=\"opencosmo_simple_transparent.png\" width=\"600\">\n",
    "</div>"
   ]
  },
  {
   "cell_type": "markdown",
   "id": "ce4ca6f3-b574-43fc-b802-89f78af8a478",
   "metadata": {},
   "source": [
    "# OpenCosmo Tutorial - investigating the Frontier-E mass function\n",
    "\n",
    "In this tutorial we're going to download some simple halo property data using the portal, open it using the opencosmo toolkit, and then compute the halo mass function and compare it to a basic model. The halo mass function is a strong probe of cosmology, as the prevalence of rare high-mass clusters is very sensitive to cosmological parameters. It can be difficult to measure in observations as cluster mass measurements come with a range of systematics, but it's fairly straightforward in simulations, given a choice of mass definition. \n",
    "\n",
    "First let's go to the [OpenCosmo](https://cosmoexplorer.alcf.anl.gov) portal, log in using your ALCF credentials (when it asks for the institution pick Argonne LCF), and navigate to Halo Query (GO). Then select the following:  \n",
    "\n",
    "\n",
    "|Complete          |  Option |\n",
    "|:------------------|:--------|\n",
    "| Simulation               | Frontier GO      | \n",
    "| Limit     | 1000      | \n",
    "| Step               | 624      | \n",
    "| Include Profiles| Yes      | \n",
    "| M200c high | 1e16      | \n",
    "| M200c low| 1e14      | \n",
    "\n",
    "Hit start flow, and wait for the output. You should see a progress screen showing where you are in the process. \n",
    "\n",
    "<img src=\"loading.gif\" width=\"500\" align=\"center\">\n",
    "\n",
    "<div class=\"alert alert-block alert-info\"><b>Tip: </b> If something goes wrong during this workshop, please feel free to ask us. To get more information, hit the three vertical dots, and click \"open in globus\" to go to the globus page for this flow, and go to the event log to see more details.  </div> \n",
    "\n",
    "\n",
    "If all goes well, after a few minutes you should have a download button to get the data onto your machine! Let's get started playing with it. But first let's install the toolkit\n",
    "\n",
    "\n",
    "## The toolkit\n",
    "\n",
    "Patrick made us a nice toolkit to work with this data, to do that let's go and follow the install instructions on the documentation [here](https://opencosmo.readthedocs.io/en/latest/installation.html), but the shortcut version is to install this with conda you can just run this code to get a new environment with opencosmo\n",
    "\n",
    "\n",
    "```bash\n",
    "conda create -n opencosmo python=3.11\n",
    "conda activate opencosmo\n",
    "pip install opencosmo\n",
    "```\n",
    "\n",
    "For later in the tutorial I'm going to use also matplotlib and pyccl so if you want to save some time, now run \n",
    "```bash\n",
    "conda install matplotlib\n",
    "conda install -c conda-forge cblas\n",
    "conda install -c conda-forge pyccl \n",
    "```\n",
    "**Note**: pyccl has some issues installing via conda in Python 3.12 environments. If you expereince problems, you can install with `pip install pyccl` or downgrade to Python 3.11. You will need CMAKE to install with pip. See [the pyccl documentation](https://ccl.readthedocs.io/en/latest/source/installation.html) for more info.\n",
    "\n",
    "I've done that before creating this notebook so if you'd like to follow along and do this in a notebook add these two lines on your terminal to add jupyter to our environment and then open a notebook\n",
    "\n",
    "```bash\n",
    "conda install jupyter\n",
    "jupyter lab\n",
    "```\n",
    "\n",
    "<div class=\"alert alert-block alert-info\"><b>Tip: </b> If you forgot this step earlier you can update your conda environment on another terminal and then just refresh your kernel and it should update </div> \n",
    "\n",
    "\n",
    "Now let's use the toolkit to open the data, here the syntax is just \n",
    "\n",
    "```python\n",
    "opencosmo.open(filepath)\n",
    "```\n",
    "\n",
    "and it opens it as an OpenCosmo Dataset which holds the cosmology, data, and units"
   ]
  },
  {
   "cell_type": "markdown",
   "id": "0246029e-93df-46f6-a70e-2270bbfe6c47",
   "metadata": {},
   "source": [
    "<div class=\"alert alert-block alert-info\"><b>Tip: </b> This data is stored as astropy objects, you can directly access the cosmology and data using dataset.cosmology and dataset.data, and then inspect it as usual  </div> \n",
    "\n",
    "I am going to quickly have a look at all the properties we have\n"
   ]
  },
  {
   "cell_type": "code",
   "execution_count": 94,
   "id": "a3f6c005-b6ed-4441-a228-15a7d77f6b3f",
   "metadata": {},
   "outputs": [
    {
     "name": "stdout",
     "output_type": "stream",
     "text": [
      "['block', 'fof_halo_1D_vel_disp', 'fof_halo_center_x', 'fof_halo_center_y', 'fof_halo_center_z', 'fof_halo_com_vx', 'fof_halo_com_vy', 'fof_halo_com_vz', 'fof_halo_com_x', 'fof_halo_com_y', 'fof_halo_com_z', 'fof_halo_mass', 'fof_halo_tag', 'sod_halo_1D_vel_disp', 'sod_halo_GasFracShell2500c', 'sod_halo_L500cBolo', 'sod_halo_L500cBoloEx', 'sod_halo_L500cErositaHi', 'sod_halo_L500cErositaHiEx', 'sod_halo_L500cErositaLo', 'sod_halo_L500cErositaLoEx', 'sod_halo_L500cRosat', 'sod_halo_L500cRosatEx', 'sod_halo_M200m', 'sod_halo_M2500c', 'sod_halo_M500c', 'sod_halo_MGas200m', 'sod_halo_MGas2500c', 'sod_halo_MGas500c', 'sod_halo_MGasHot500c', 'sod_halo_MGasVir', 'sod_halo_MStar200m', 'sod_halo_MStar2500c', 'sod_halo_MStar500c', 'sod_halo_MStarVir', 'sod_halo_MVir', 'sod_halo_R200m', 'sod_halo_R2500c', 'sod_halo_R500c', 'sod_halo_RVir', 'sod_halo_T500c', 'sod_halo_T500cBolo', 'sod_halo_T500cBoloEx', 'sod_halo_Y500c', 'sod_halo_Y5R500c', 'sod_halo_bhr', 'sod_halo_c_acc_mass', 'sod_halo_c_peak_mass', 'sod_halo_cdelta', 'sod_halo_cdelta_error', 'sod_halo_com_vx', 'sod_halo_com_vy', 'sod_halo_com_vz', 'sod_halo_com_x', 'sod_halo_com_x_dm', 'sod_halo_com_x_gas', 'sod_halo_com_y', 'sod_halo_com_y_dm', 'sod_halo_com_y_gas', 'sod_halo_com_z', 'sod_halo_com_z_dm', 'sod_halo_com_z_gas', 'sod_halo_core_cusp', 'sod_halo_core_entropy', 'sod_halo_core_ne', 'sod_halo_core_tcool', 'sod_halo_count_bar', 'sod_halo_mass', 'sod_halo_mass_agn', 'sod_halo_mass_dm', 'sod_halo_mass_gas', 'sod_halo_mass_nHI', 'sod_halo_mass_sfgas', 'sod_halo_mass_star', 'sod_halo_mass_wind', 'sod_halo_mmagn_id', 'sod_halo_mmagn_mass', 'sod_halo_radius', 'sod_halo_sfr', 'unique_tag']\n"
     ]
    }
   ],
   "source": [
    "print(list(dataset.data.keys()))"
   ]
  },
  {
   "cell_type": "markdown",
   "id": "b85888f6-5aa8-4828-9ac5-357b5c4d7a21",
   "metadata": {},
   "source": [
    "## FAQ\n",
    "### - what are the units?\n",
    "\n",
    "Typically we have HACC outputs in comoving units, with h factors, e.g. the box sizes are in comoving Mpc/h. However when this toolkit loads them in, it removes the h factors and keeps it in comoving units. Have a look [here](https://opencosmo.readthedocs.io/en/latest/main_api.html#unit-conventions) for more unit options and how to convert these within the toolkit. The units are stored with the data and you can access them using e.g.\n",
    "```python\n",
    "print(dataset.data['fof_halo_mass'].unit)\n",
    "```\n",
    "\n",
    "### - what properties are there?\n",
    "The full list can be obtained using  \n",
    "```python\n",
    "print(dataset.data.keys())\n",
    "```\n",
    "Make sure to reload the full dataset if you've cut it down. However, this some of the abbreviations might not be very clear. Some of these are (this is for both hydro and gravity-only outputs so not all will be present in this dataset)\n",
    "\n",
    "- block: a convenience output to show how the data is stored, can help to match between different datasets\n",
    "- fof_halo_tag: unique in a snapshot, these are the halo tags we typically use to name the halos\n",
    "- com: stands for center of mass\n",
    "- vel_disp: velocity dispersion\n",
    "- fof: found using a friends-of-friends clustering algorithm\n",
    "- sod: spherical-overdensity clustering algorithm\n",
    "- L500c: xray-luminosity within an SOD radius where the density corresponds to 500x the critical density of the universe\n",
    "- Bolo: bolometric\n",
    "- Rosat/Erosita: xray surveys\n",
    "- MGas: mass which is classified as a gas\n",
    "- MStar: stellar mass\n",
    "- Vir: virial radius\n",
    "- Ex: core excised\n",
    "- T: temperature\n",
    "- Y: compton-y parameter\n",
    "- dm: dark matter\n",
    "- cdelta: concentration\n",
    "- c_peak_mass, c_acc_mass: different concentration measurements\n"
   ]
  },
  {
   "cell_type": "markdown",
   "id": "e18d1139-40df-4888-87dc-8a8d44ed71a8",
   "metadata": {},
   "source": [
    "### Filtering\n",
    "\n",
    "Now we have already filtered the data on the portal, but let's see how to do that here too just for fun.\n",
    "The syntax is \n",
    "```python\n",
    "dataset.filter(oc.col(colname)>criteria_min, oc.col(colname)==criteria_equal)\n",
    "```\n",
    "you can also select properties to keep using \n",
    "```python\n",
    "dataset.select([property1,property2])\n",
    "```\n",
    "and take a random sampling of that using \n",
    "```python\n",
    "dataset.take(howmany,at='random')\n",
    "```\n",
    "\n",
    "Remember that these are comoving units without any h-factors, so not quite our standard hacc units. Using these selections can really speed this up for large datasets so remember to pare down the list of columns you need. "
   ]
  },
  {
   "cell_type": "code",
   "execution_count": 103,
   "id": "d597cc21-190f-4f76-8a39-4bed775dad51",
   "metadata": {},
   "outputs": [],
   "source": [
    "dataset = dataset.filter(oc.col(\"sod_halo_mass\") > 1e14).select([\"fof_halo_mass\",\"sod_halo_mass\"])"
   ]
  },
  {
   "cell_type": "markdown",
   "id": "b6a6e989-b38e-4c7d-89dc-bf68bed56be3",
   "metadata": {},
   "source": [
    "Let's make a binned halo mass function - really the only thing you need to do for this is to create some mass bins and compute the count of halos in these bins. We're going to use CCL to get the Tinker et al 2008 mass function (there are many implementations to choose from and plenty of other mass functions in CCL to use), and use scipy's binned statistics function to get the number counts in each mass bin. We're using the SOD masses as this is most similar to what the implementation expects. "
   ]
  },
  {
   "cell_type": "code",
   "execution_count": 104,
   "id": "4b59a16f-b263-4a7b-8e97-13318d1e5f9a",
   "metadata": {},
   "outputs": [],
   "source": [
    "from scipy.stats import binned_statistic\n",
    "import numpy as np\n",
    "from pyccl.halos.hmfunc.tinker08 import MassFuncTinker08\n",
    "import matplotlib.pyplot as plt\n",
    "import pyccl as ccl\n",
    "\n",
    "mass_type = 'sod_halo_mass'\n",
    "\n",
    "mass_bins = np.logspace(np.log10(2.e13),np.log10(np.max(dataset.data[mass_type])),21)\n",
    "counts, edges, binnum = binned_statistic(x=dataset.data[mass_type],values =dataset.data[mass_type],bins=mass_bins, statistic='count')\n",
    "mids, edges, binnum = binned_statistic(x=dataset.data[mass_type],values =dataset.data[mass_type],bins=mass_bins, statistic='mean')\n",
    "\n",
    "\n"
   ]
  },
  {
   "cell_type": "markdown",
   "id": "6adb28fb-546f-431e-9ac8-74968f87006f",
   "metadata": {},
   "source": [
    "Now the units of the mass function are often not in counts but in counts per base10 logarithmic unit of mass per unit volume, so we do a few sneaky corrections here. "
   ]
  },
  {
   "cell_type": "code",
   "execution_count": 105,
   "id": "4b1b9897-7126-47a0-a49b-4c455f77b961",
   "metadata": {},
   "outputs": [
    {
     "data": {
      "image/png": "[encoded data removed]",
      "text/plain": [
       "<Figure size 640x480 with 1 Axes>"
      ]
     },
     "metadata": {},
     "output_type": "display_data"
    }
   ],
   "source": [
    "cosmo = ccl.Cosmology(Omega_c=0.26067, Omega_b=0.0489, h=0.6766, sigma8=0.8102, n_s=0.9665)\n",
    "hmf = MassFuncTinker08(mass_def='200c')\n",
    "# hmf units are in dN/d(log10(M)) per unit volume\n",
    "\n",
    "plt.loglog(mids,hmf(cosmo,mids,1.0)*(np.log10(edges[1:])-np.log10(edges[:-1]))*(128/0.6766)**3.)\n",
    "plt.loglog(mids,counts)\n",
    "plt.xlabel('M200c (solar masses)')\n",
    "plt.ylabel('halo mass function (please dont make me write units)')\n",
    "plt.show()"
   ]
  },
  {
   "cell_type": "markdown",
   "id": "0d42ba5b-7e25-41d7-a9dc-4564266f21f2",
   "metadata": {},
   "source": [
    "## Conclusions \n",
    "\n",
    "And we're done! There's a large number of other halo properties you can look at, so go ahead and explore the halo properties and their dependencies if you like. In the next guided examples I'll take you through how to look at more complex matched data. \n",
    "\n",
    "### Challenges\n",
    "- Check the halo mass function at multiple redshifts, see which HMF model our data best matches\n",
    "- Check the concentration-mass relation, measuring both the standard error and the measurement error in the bins\n",
    "- Look at the mass-xray luminosity relation. Tell us if it matches data"
   ]
  }
 ],
 "metadata": {
  "kernelspec": {
   "display_name": "Python 3 (ipykernel)",
   "language": "python",
   "name": "python3"
  },
  "language_info": {
   "codemirror_mode": {
    "name": "ipython",
    "version": 3
   },
   "file_extension": ".py",
   "mimetype": "text/x-python",
   "name": "python",
   "nbconvert_exporter": "python",
   "pygments_lexer": "ipython3",
   "version": "3.11.0"
  }
 },
 "nbformat": 4,
 "nbformat_minor": 5
}
