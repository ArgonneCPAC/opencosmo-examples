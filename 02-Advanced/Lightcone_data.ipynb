{
 "cells": [
  {
   "cell_type": "markdown",
   "id": "834a6738-68b7-4ef4-b5a6-7b8ab5ff751a",
   "metadata": {},
   "source": [
    "<div>\n",
    "<img src=\"opencosmo_simple_transparent.png\" width=\"600\">\n",
    "</div>"
   ]
  },
  {
   "cell_type": "markdown",
   "id": "6aa54afe-c0bb-4067-a32a-5a0d82dc3084",
   "metadata": {},
   "source": [
    "# OpenCosmo Tutorial - lightcone data\n"
   ]
  },
  {
   "cell_type": "markdown",
   "id": "2de5861e-3e34-4e2b-8101-560bb4d56be5",
   "metadata": {},
   "source": [
    "\n",
    "<div class=\"alert alert-block alert-info\"><b>Note: </b> This tutorial is a little different, we're updating last minute and I don't have any examples on hand so you're going to try this out with me and work it out together! I'll give code snippets and my best guesses but you'll need to put together the details. This is why it's an advanced tutorial :)  </div> \n",
    "\n",
    "\n",
    "## The portal\n",
    "\n",
    "First navigate to Halo LC Query  and select something like the following:\n",
    "\n",
    "\n",
    "|Complete          |  Option |\n",
    "|:------------------|:--------|\n",
    "| Simulation               | Frontier GO | \n",
    "| Limit     | 1000      | \n",
    "| Lower step              | 500      | \n",
    "| Upper step               | 624      | \n",
    "| M200c high | 1e16      | \n",
    "| M200c low| 1e14      | \n",
    "| theta high | 0.5      | \n",
    "| theta low| 0.1     | \n",
    "| phi high | 0.5      | \n",
    "| phi low| 0.1      | \n",
    "\n",
    "And if we're very lucky you'll get some halos! These are the standard mathematical theta, phi bounds on the lightcone in radians, as well as redshift slicing through the step number (500 is roughly z=0.15) and a mass cut. \n",
    "\n",
    "Then navigate to the CMB map query, and you can get hold of the CMB lensing map (with contributions up to z=5) from the Frontier E simulation to go along with it \n",
    "\n",
    "\n",
    "|Complete          |  Option |\n",
    "|:------------------|:--------|\n",
    "| Simulation               | Frontier GO | \n",
    "| nside out | 2048      | \n",
    "\n",
    "\n",
    "If you want you can get a small patch with a theta,phi position and a radius, and it'll give you an image and the map in a healsparse format. However this set-up will downgrade the map to a reasonable resolution for you so you should be able to manage the whole thing. "
   ]
  },
  {
   "cell_type": "markdown",
   "id": "6dd6419f-14f8-4ac2-a5f2-224413924306",
   "metadata": {},
   "source": [
    "\n",
    "<div class=\"alert alert-block alert-info\"><b>Note: </b> Some of the options are changing quickly, and they may sometimes break! If you are unsure about anything just ask!  </div> \n"
   ]
  },
  {
   "cell_type": "markdown",
   "id": "874e56fe-7cb7-498f-a6d8-d2ba4ffb2021",
   "metadata": {},
   "source": [
    "## Halo lightcones \n",
    "\n",
    "We don't support reading halo lightcones using the toolkit yet so in this case you need to read them directly. However everything is in hdf5 format, with standard HACC units, so most of you should be reasonably comfortable with this anyway. If not feel free to ask. \n",
    "\n",
    "Let's start off just by reading the data. It should look something like \n",
    "\n",
    "```python\n",
    "dataset = h5py.File('halolcproperties.hdf5','r')\n",
    "print(dataset.keys())\n",
    "fof_halo_mass = dataset['fof_halo_mass'][:]\n",
    "fof_halo_center_x = dataset['fof_halo_x'][:]\n",
    "```\n",
    "and the same halo finder has been run on the lightcone so all the properties should look familiar. Some exceptions are the scale factor and the replication number. If you don't have the ra or declination, you can get this using healpy with \n",
    "\n",
    "```python\n",
    "import healpy as hp\n",
    "ra,dec = hp.vec2ang([x,y,z],lonlat=True)\n",
    "```\n",
    "\n",
    "Go ahead and try finding the most massive halo in this sample. Then let's open up the map! This is in healsparse format, but we can easily convert to a normal healpix format and visualize the CMB lensing map around the massive cluster. Let's give it a go, it will be something like..\n",
    "\n",
    "```python\n",
    "import healsparse as hsp \n",
    "import healpy as hp\n",
    "import matplotlib.pyplot as plt\n",
    "\n",
    "hsp_map = hsp.HealSparseMap.read('map.fits')\n",
    "hp_map = hsp_map.generate_healpix_map(nside=2048)\n",
    "dx=1.0\n",
    "hp.cartview(hp_map,lonra=[ra-dx,ra+dx], latra=[dec-dx,dec+dx], return_projected_map=True)\n",
    "plt.show()\n",
    "\n",
    "```"
   ]
  },
  {
   "cell_type": "markdown",
   "id": "ee4bd9cb-3c16-496d-8c97-afc28c09c36a",
   "metadata": {},
   "source": [
    "## Challenges\n",
    "\n",
    "- Make a kappa profile around the massive cluster, and compare to the expected profile using the parameters from the halo properties in the halo lightcone catalog. Can you recover the signal?\n",
    "- Make a comoving distance to redshift plot of the halo lightcones (this might seem silly but we've caught code bugs this way many times before)\n",
    "- Can you find this most massive halo in the snapshot data? Does it look any different? Note that the fof halo tag is *not* constant between the lightcone and the snapshot, you'll need to find it by matching on proximity in position and mass. "
   ]
  },
  {
   "cell_type": "code",
   "execution_count": null,
   "id": "b20ac40a-1d0e-459b-b2e2-6700925288e6",
   "metadata": {},
   "outputs": [],
   "source": []
  }
 ],
 "metadata": {
  "kernelspec": {
   "display_name": "Python 3 (ipykernel)",
   "language": "python",
   "name": "python3"
  },
  "language_info": {
   "codemirror_mode": {
    "name": "ipython",
    "version": 3
   },
   "file_extension": ".py",
   "mimetype": "text/x-python",
   "name": "python",
   "nbconvert_exporter": "python",
   "pygments_lexer": "ipython3",
   "version": "3.11.8"
  }
 },
 "nbformat": 4,
 "nbformat_minor": 5
}
